{
 "cells": [
  {
   "cell_type": "code",
   "execution_count": 1,
   "metadata": {},
   "outputs": [],
   "source": [
    "# Import dependencies\n",
    "import pandas as pd\n",
    "import matplotlib.pyplot as plt\n",
    "import datetime as dt\n",
    "import numpy as np"
   ]
  },
  {
   "cell_type": "code",
   "execution_count": 2,
   "metadata": {},
   "outputs": [
    {
     "data": {
      "text/html": [
       "<div>\n",
       "<style scoped>\n",
       "    .dataframe tbody tr th:only-of-type {\n",
       "        vertical-align: middle;\n",
       "    }\n",
       "\n",
       "    .dataframe tbody tr th {\n",
       "        vertical-align: top;\n",
       "    }\n",
       "\n",
       "    .dataframe thead th {\n",
       "        text-align: right;\n",
       "    }\n",
       "</style>\n",
       "<table border=\"1\" class=\"dataframe\">\n",
       "  <thead>\n",
       "    <tr style=\"text-align: right;\">\n",
       "      <th></th>\n",
       "      <th>Opposition Name</th>\n",
       "      <th>Date</th>\n",
       "      <th>Year</th>\n",
       "      <th>Point Gap</th>\n",
       "      <th>Result</th>\n",
       "      <th>Location</th>\n",
       "      <th>Opposition Debutants</th>\n",
       "      <th>Debutants</th>\n",
       "      <th>Opposition Rating</th>\n",
       "      <th>Rating</th>\n",
       "    </tr>\n",
       "  </thead>\n",
       "  <tbody>\n",
       "    <tr>\n",
       "      <th>0</th>\n",
       "      <td>Canada</td>\n",
       "      <td>2003-10-17</td>\n",
       "      <td>2003</td>\n",
       "      <td>62</td>\n",
       "      <td>Win</td>\n",
       "      <td>Melbourne</td>\n",
       "      <td>0</td>\n",
       "      <td>1</td>\n",
       "      <td>65.62</td>\n",
       "      <td>89.80</td>\n",
       "    </tr>\n",
       "    <tr>\n",
       "      <th>1</th>\n",
       "      <td>Tonga</td>\n",
       "      <td>2003-10-24</td>\n",
       "      <td>2003</td>\n",
       "      <td>84</td>\n",
       "      <td>Win</td>\n",
       "      <td>Brisbane</td>\n",
       "      <td>1</td>\n",
       "      <td>1</td>\n",
       "      <td>70.08</td>\n",
       "      <td>89.80</td>\n",
       "    </tr>\n",
       "    <tr>\n",
       "      <th>2</th>\n",
       "      <td>Wales</td>\n",
       "      <td>2003-11-02</td>\n",
       "      <td>2003</td>\n",
       "      <td>16</td>\n",
       "      <td>Win</td>\n",
       "      <td>Sydney</td>\n",
       "      <td>0</td>\n",
       "      <td>0</td>\n",
       "      <td>76.92</td>\n",
       "      <td>89.80</td>\n",
       "    </tr>\n",
       "    <tr>\n",
       "      <th>3</th>\n",
       "      <td>South Africa</td>\n",
       "      <td>2003-11-08</td>\n",
       "      <td>2003</td>\n",
       "      <td>20</td>\n",
       "      <td>Win</td>\n",
       "      <td>Melbourne</td>\n",
       "      <td>0</td>\n",
       "      <td>0</td>\n",
       "      <td>81.84</td>\n",
       "      <td>89.80</td>\n",
       "    </tr>\n",
       "    <tr>\n",
       "      <th>4</th>\n",
       "      <td>Australia</td>\n",
       "      <td>2003-11-15</td>\n",
       "      <td>2003</td>\n",
       "      <td>-12</td>\n",
       "      <td>Loss</td>\n",
       "      <td>Sydney</td>\n",
       "      <td>0</td>\n",
       "      <td>0</td>\n",
       "      <td>86.20</td>\n",
       "      <td>90.41</td>\n",
       "    </tr>\n",
       "  </tbody>\n",
       "</table>\n",
       "</div>"
      ],
      "text/plain": [
       "  Opposition Name        Date  Year  Point Gap Result   Location  \\\n",
       "0          Canada  2003-10-17  2003         62    Win  Melbourne   \n",
       "1           Tonga  2003-10-24  2003         84    Win   Brisbane   \n",
       "2           Wales  2003-11-02  2003         16    Win     Sydney   \n",
       "3    South Africa  2003-11-08  2003         20    Win  Melbourne   \n",
       "4       Australia  2003-11-15  2003        -12   Loss     Sydney   \n",
       "\n",
       "   Opposition Debutants  Debutants  Opposition Rating  Rating  \n",
       "0                     0          1              65.62   89.80  \n",
       "1                     1          1              70.08   89.80  \n",
       "2                     0          0              76.92   89.80  \n",
       "3                     0          0              81.84   89.80  \n",
       "4                     0          0              86.20   90.41  "
      ]
     },
     "execution_count": 2,
     "metadata": {},
     "output_type": "execute_result"
    }
   ],
   "source": [
    "# Read in file\n",
    "df = pd.read_csv(\"ABMatchData.csv\")\n",
    "\n",
    "# Separate year and add as new column\n",
    "yr = df[\"Date\"].str.split(\"-\", 1)\n",
    "year = [y[0] for y in yr]\n",
    "df[\"Year\"] = year\n",
    "\n",
    "# Rearrange and drop columns\n",
    "df = df[['Opposition Name', 'Date', 'Year', 'Point Gap', 'Result', 'Location',\n",
    "       'Opposition Debutants', 'Debutants', 'Opposition Rating', 'Rating']]\n",
    "df.head()"
   ]
  },
  {
   "cell_type": "code",
   "execution_count": 4,
   "metadata": {},
   "outputs": [
    {
     "data": {
      "text/html": [
       "<div>\n",
       "<style scoped>\n",
       "    .dataframe tbody tr th:only-of-type {\n",
       "        vertical-align: middle;\n",
       "    }\n",
       "\n",
       "    .dataframe tbody tr th {\n",
       "        vertical-align: top;\n",
       "    }\n",
       "\n",
       "    .dataframe thead th {\n",
       "        text-align: right;\n",
       "    }\n",
       "</style>\n",
       "<table border=\"1\" class=\"dataframe\">\n",
       "  <thead>\n",
       "    <tr style=\"text-align: right;\">\n",
       "      <th></th>\n",
       "      <th>Point Gap</th>\n",
       "      <th>Opposition Debutants</th>\n",
       "      <th>Debutants</th>\n",
       "      <th>Opposition Rating</th>\n",
       "      <th>Rating</th>\n",
       "    </tr>\n",
       "  </thead>\n",
       "  <tbody>\n",
       "    <tr>\n",
       "      <th>Point Gap</th>\n",
       "      <td>1.000000</td>\n",
       "      <td>0.155380</td>\n",
       "      <td>0.216510</td>\n",
       "      <td>-0.602989</td>\n",
       "      <td>-0.030852</td>\n",
       "    </tr>\n",
       "    <tr>\n",
       "      <th>Opposition Debutants</th>\n",
       "      <td>0.155380</td>\n",
       "      <td>1.000000</td>\n",
       "      <td>0.228839</td>\n",
       "      <td>-0.004841</td>\n",
       "      <td>0.044934</td>\n",
       "    </tr>\n",
       "    <tr>\n",
       "      <th>Debutants</th>\n",
       "      <td>0.216510</td>\n",
       "      <td>0.228839</td>\n",
       "      <td>1.000000</td>\n",
       "      <td>-0.279492</td>\n",
       "      <td>-0.085494</td>\n",
       "    </tr>\n",
       "    <tr>\n",
       "      <th>Opposition Rating</th>\n",
       "      <td>-0.602989</td>\n",
       "      <td>-0.004841</td>\n",
       "      <td>-0.279492</td>\n",
       "      <td>1.000000</td>\n",
       "      <td>-0.004186</td>\n",
       "    </tr>\n",
       "    <tr>\n",
       "      <th>Rating</th>\n",
       "      <td>-0.030852</td>\n",
       "      <td>0.044934</td>\n",
       "      <td>-0.085494</td>\n",
       "      <td>-0.004186</td>\n",
       "      <td>1.000000</td>\n",
       "    </tr>\n",
       "  </tbody>\n",
       "</table>\n",
       "</div>"
      ],
      "text/plain": [
       "                      Point Gap  Opposition Debutants  Debutants  \\\n",
       "Point Gap              1.000000              0.155380   0.216510   \n",
       "Opposition Debutants   0.155380              1.000000   0.228839   \n",
       "Debutants              0.216510              0.228839   1.000000   \n",
       "Opposition Rating     -0.602989             -0.004841  -0.279492   \n",
       "Rating                -0.030852              0.044934  -0.085494   \n",
       "\n",
       "                      Opposition Rating    Rating  \n",
       "Point Gap                     -0.602989 -0.030852  \n",
       "Opposition Debutants          -0.004841  0.044934  \n",
       "Debutants                     -0.279492 -0.085494  \n",
       "Opposition Rating              1.000000 -0.004186  \n",
       "Rating                        -0.004186  1.000000  "
      ]
     },
     "execution_count": 4,
     "metadata": {},
     "output_type": "execute_result"
    }
   ],
   "source": [
    "df.corr(method=\"pearson\")"
   ]
  },
  {
   "cell_type": "markdown",
   "metadata": {},
   "source": [
    "## Total Match Results"
   ]
  },
  {
   "cell_type": "code",
   "execution_count": 3,
   "metadata": {},
   "outputs": [
    {
     "data": {
      "image/png": "[encoded data removed]",
      "text/plain": [
       "<Figure size 432x288 with 1 Axes>"
      ]
     },
     "metadata": {},
     "output_type": "display_data"
    }
   ],
   "source": [
    "# Total wins, losses, draws\n",
    "size = df[\"Result\"].value_counts()\n",
    "\n",
    "# Pie chart settings\n",
    "labels = [\"Wins (86.8%)\", \"Losses (11.7%)\", \"Draws (1.5%)\"]\n",
    "colors = [\"#080808\",\"#888888\",\"#CCCCCC\"]\n",
    "my_circle=plt.Circle((0,0),1, color=\"#FFFFFF\")\n",
    "\n",
    "# Plot pie chart\n",
    "plt.pie(size, labels=labels, colors=colors, radius=1.5)\n",
    "p=plt.gcf()\n",
    "p.gca().add_artist(my_circle)\n",
    "# plt.title(\"Match Results Between 2003 and 2018\", loc=\"center\", pad=40)\n",
    "plt.savefig('../Images/total-match-results-pie.png')\n",
    "plt.show()"
   ]
  },
  {
   "cell_type": "markdown",
   "metadata": {},
   "source": [
    "## Match Results Over Time (Stacked Bar)"
   ]
  },
  {
   "cell_type": "code",
   "execution_count": 4,
   "metadata": {
    "scrolled": true
   },
   "outputs": [
    {
     "data": {
      "text/html": [
       "<div>\n",
       "<style scoped>\n",
       "    .dataframe tbody tr th:only-of-type {\n",
       "        vertical-align: middle;\n",
       "    }\n",
       "\n",
       "    .dataframe tbody tr th {\n",
       "        vertical-align: top;\n",
       "    }\n",
       "\n",
       "    .dataframe thead th {\n",
       "        text-align: right;\n",
       "    }\n",
       "</style>\n",
       "<table border=\"1\" class=\"dataframe\">\n",
       "  <thead>\n",
       "    <tr style=\"text-align: right;\">\n",
       "      <th>Result</th>\n",
       "      <th>Year</th>\n",
       "      <th>Draw</th>\n",
       "      <th>Loss</th>\n",
       "      <th>Win</th>\n",
       "    </tr>\n",
       "  </thead>\n",
       "  <tbody>\n",
       "    <tr>\n",
       "      <th>0</th>\n",
       "      <td>2003</td>\n",
       "      <td>0.0</td>\n",
       "      <td>1.0</td>\n",
       "      <td>5.0</td>\n",
       "    </tr>\n",
       "    <tr>\n",
       "      <th>1</th>\n",
       "      <td>2004</td>\n",
       "      <td>0.0</td>\n",
       "      <td>2.0</td>\n",
       "      <td>9.0</td>\n",
       "    </tr>\n",
       "    <tr>\n",
       "      <th>2</th>\n",
       "      <td>2005</td>\n",
       "      <td>0.0</td>\n",
       "      <td>1.0</td>\n",
       "      <td>11.0</td>\n",
       "    </tr>\n",
       "    <tr>\n",
       "      <th>3</th>\n",
       "      <td>2006</td>\n",
       "      <td>0.0</td>\n",
       "      <td>1.0</td>\n",
       "      <td>12.0</td>\n",
       "    </tr>\n",
       "    <tr>\n",
       "      <th>4</th>\n",
       "      <td>2007</td>\n",
       "      <td>0.0</td>\n",
       "      <td>2.0</td>\n",
       "      <td>10.0</td>\n",
       "    </tr>\n",
       "  </tbody>\n",
       "</table>\n",
       "</div>"
      ],
      "text/plain": [
       "Result  Year  Draw  Loss   Win\n",
       "0       2003   0.0   1.0   5.0\n",
       "1       2004   0.0   2.0   9.0\n",
       "2       2005   0.0   1.0  11.0\n",
       "3       2006   0.0   1.0  12.0\n",
       "4       2007   0.0   2.0  10.0"
      ]
     },
     "execution_count": 4,
     "metadata": {},
     "output_type": "execute_result"
    }
   ],
   "source": [
    "# Store count of results by year in data frame\n",
    "grouped_data = df.groupby([\"Year\", \"Result\"], as_index=False).size()\n",
    "df2 = grouped_data.reset_index().rename(columns = {0:\"count\"})\n",
    "df2 = df2.pivot(index = \"Year\",columns = \"Result\",values = \"count\")\n",
    "df2 = df2.fillna(0)\n",
    "df2 = df2.reset_index()\n",
    "df2.head()"
   ]
  },
  {
   "cell_type": "code",
   "execution_count": 5,
   "metadata": {},
   "outputs": [
    {
     "data": {
      "image/png": "[encoded data removed]",
      "text/plain": [
       "<Figure size 864x360 with 1 Axes>"
      ]
     },
     "metadata": {
      "needs_background": "light"
     },
     "output_type": "display_data"
    }
   ],
   "source": [
    "f, ax = plt.subplots(1, figsize=(12,5))\n",
    "\n",
    "# Positions of the left bar boundaries\n",
    "bar_l = [i for i in range(len(df2['Win']))] \n",
    "\n",
    "# Positions of the x-axis ticks\n",
    "tick_pos = [i for i in bar_l] \n",
    "\n",
    "# Total score\n",
    "totals = [i+j+k for i,j,k in zip(df2['Win'], df2['Draw'], df2['Loss'])]\n",
    "\n",
    "# Percentage of wins, draws, losses\n",
    "win_pct = [i / j * 100 for  i,j in zip(df2['Win'], totals)]\n",
    "draw_pct = [i / j * 100 for  i,j in zip(df2['Draw'], totals)]\n",
    "loss_pct = [i / j * 100 for  i,j in zip(df2['Loss'], totals)]\n",
    "\n",
    "# Create bars for chart\n",
    "ax.bar(bar_l, win_pct, label='Win', color=\"#080808\")\n",
    "ax.bar(bar_l, draw_pct, bottom=win_pct, label='Draw', color=\"#CCCCCC\")\n",
    "ax.bar(bar_l, loss_pct, bottom=[i+j for i,j in zip(win_pct, draw_pct)], label='Losses', color=\"#888888\")\n",
    "\n",
    "# Set ticks and labels\n",
    "plt.xticks(tick_pos, df2['Year'])\n",
    "ax.set_ylabel(\"Percentage\")\n",
    "ax.set_xlabel(\"Year\")\n",
    "\n",
    "# Rotate axis labels\n",
    "plt.setp(plt.gca().get_xticklabels(), rotation=45, horizontalalignment='right')\n",
    "# plt.title(\"Percentage of Match Results Over Time\")\n",
    "plt.legend([\"Wins\", \"Draws\", \"Losses\"],bbox_to_anchor=(1,1))\n",
    "plt.savefig(\"../Images/results-over-time-stacked.png\")\n",
    "plt.show()"
   ]
  },
  {
   "cell_type": "markdown",
   "metadata": {},
   "source": [
    "## Match Results by Opposition Teams"
   ]
  },
  {
   "cell_type": "code",
   "execution_count": 12,
   "metadata": {},
   "outputs": [
    {
     "data": {
      "text/html": [
       "<div>\n",
       "<style scoped>\n",
       "    .dataframe tbody tr th:only-of-type {\n",
       "        vertical-align: middle;\n",
       "    }\n",
       "\n",
       "    .dataframe tbody tr th {\n",
       "        vertical-align: top;\n",
       "    }\n",
       "\n",
       "    .dataframe thead th {\n",
       "        text-align: right;\n",
       "    }\n",
       "</style>\n",
       "<table border=\"1\" class=\"dataframe\">\n",
       "  <thead>\n",
       "    <tr style=\"text-align: right;\">\n",
       "      <th>Result</th>\n",
       "      <th>Opposition Name</th>\n",
       "      <th>Draw</th>\n",
       "      <th>Loss</th>\n",
       "      <th>Win</th>\n",
       "    </tr>\n",
       "  </thead>\n",
       "  <tbody>\n",
       "    <tr>\n",
       "      <th>0</th>\n",
       "      <td>Argentina</td>\n",
       "      <td>0.0</td>\n",
       "      <td>0.0</td>\n",
       "      <td>17.0</td>\n",
       "    </tr>\n",
       "    <tr>\n",
       "      <th>1</th>\n",
       "      <td>Australia</td>\n",
       "      <td>2.0</td>\n",
       "      <td>8.0</td>\n",
       "      <td>36.0</td>\n",
       "    </tr>\n",
       "    <tr>\n",
       "      <th>2</th>\n",
       "      <td>Canada</td>\n",
       "      <td>0.0</td>\n",
       "      <td>0.0</td>\n",
       "      <td>3.0</td>\n",
       "    </tr>\n",
       "    <tr>\n",
       "      <th>3</th>\n",
       "      <td>England</td>\n",
       "      <td>0.0</td>\n",
       "      <td>1.0</td>\n",
       "      <td>15.0</td>\n",
       "    </tr>\n",
       "    <tr>\n",
       "      <th>4</th>\n",
       "      <td>Fiji</td>\n",
       "      <td>0.0</td>\n",
       "      <td>0.0</td>\n",
       "      <td>2.0</td>\n",
       "    </tr>\n",
       "  </tbody>\n",
       "</table>\n",
       "</div>"
      ],
      "text/plain": [
       "Result Opposition Name  Draw  Loss   Win\n",
       "0            Argentina   0.0   0.0  17.0\n",
       "1            Australia   2.0   8.0  36.0\n",
       "2               Canada   0.0   0.0   3.0\n",
       "3              England   0.0   1.0  15.0\n",
       "4                 Fiji   0.0   0.0   2.0"
      ]
     },
     "execution_count": 12,
     "metadata": {},
     "output_type": "execute_result"
    }
   ],
   "source": [
    "# Group data by opposition teams and results\n",
    "grouped_data = df.groupby([\"Opposition Name\", \"Result\"], as_index=False).size()\n",
    "df3 = grouped_data.reset_index().rename(columns = {0:\"Count\"})\n",
    "df3 = df3.pivot(index=\"Opposition Name\",columns=\"Result\",values=\"Count\")\n",
    "df3 = df3.fillna(0)\n",
    "df3 = df3.reset_index()\n",
    "df3.head()"
   ]
  },
  {
   "cell_type": "code",
   "execution_count": 31,
   "metadata": {},
   "outputs": [
    {
     "data": {
      "image/png": "[encoded data removed]",
      "text/plain": [
       "<Figure size 864x360 with 1 Axes>"
      ]
     },
     "metadata": {
      "needs_background": "light"
     },
     "output_type": "display_data"
    }
   ],
   "source": [
    "f, ax = plt.subplots(1, figsize=(12,5))\n",
    "\n",
    "# Positions of the left bar boundaries\n",
    "bar_l = [i for i in range(len(df3['Win']))] \n",
    "\n",
    "# Positions of the x-axis ticks\n",
    "tick_pos = [i for i in bar_l] \n",
    "\n",
    "# Total score\n",
    "totals = [i+j+k for i,j,k in zip(df3['Win'], df3['Draw'], df3['Loss'])]\n",
    "\n",
    "# Percentage of wins, draws, losses\n",
    "win_pct = [i / j * 100 for  i,j in zip(df3['Win'], totals)]\n",
    "draw_pct = [i / j * 100 for  i,j in zip(df3['Draw'], totals)]\n",
    "loss_pct = [i / j * 100 for  i,j in zip(df3['Loss'], totals)]\n",
    "\n",
    "# Create bars for chart\n",
    "ax.bar(bar_l, win_pct, label='Win', color='#080808')\n",
    "ax.bar(bar_l, draw_pct, bottom=win_pct, label='Draw', color=\"#CCCCCC\")\n",
    "ax.bar(bar_l, loss_pct, bottom=[i+j for i,j in zip(win_pct, draw_pct)], label='Losses', color=\"#888888\")\n",
    "\n",
    "# Set ticks and labels\n",
    "plt.xticks(tick_pos, df3['Opposition Name'])\n",
    "ax.set_ylabel(\"Percentage\")\n",
    "ax.set_xlabel(\"\")\n",
    "\n",
    "# Rotate axis labels\n",
    "plt.setp(plt.gca().get_xticklabels(), rotation=45, horizontalalignment='right')\n",
    "plt.legend([\"Wins\", \"Draws\", \"Losses\"],bbox_to_anchor=(1,1))\n",
    "# plt.title(\"Percentage of Match Results per Opposition Team\")\n",
    "plt.subplots_adjust(bottom=.2, top=.9)\n",
    "plt.savefig(\"../Images/results-by-opposition-team.png\")\n",
    "plt.show()"
   ]
  },
  {
   "cell_type": "markdown",
   "metadata": {},
   "source": [
    "## Average Point Gap by Year vs. Average Rating"
   ]
  },
  {
   "cell_type": "code",
   "execution_count": 4,
   "metadata": {},
   "outputs": [
    {
     "data": {
      "text/html": [
       "<div>\n",
       "<style scoped>\n",
       "    .dataframe tbody tr th:only-of-type {\n",
       "        vertical-align: middle;\n",
       "    }\n",
       "\n",
       "    .dataframe tbody tr th {\n",
       "        vertical-align: top;\n",
       "    }\n",
       "\n",
       "    .dataframe thead th {\n",
       "        text-align: right;\n",
       "    }\n",
       "</style>\n",
       "<table border=\"1\" class=\"dataframe\">\n",
       "  <thead>\n",
       "    <tr style=\"text-align: right;\">\n",
       "      <th></th>\n",
       "      <th>Year</th>\n",
       "      <th>Point Gap</th>\n",
       "      <th>Rating</th>\n",
       "      <th>Opposition Rating</th>\n",
       "    </tr>\n",
       "  </thead>\n",
       "  <tbody>\n",
       "    <tr>\n",
       "      <th>0</th>\n",
       "      <td>2003</td>\n",
       "      <td>32.833333</td>\n",
       "      <td>89.630000</td>\n",
       "      <td>77.553333</td>\n",
       "    </tr>\n",
       "    <tr>\n",
       "      <th>1</th>\n",
       "      <td>2004</td>\n",
       "      <td>17.000000</td>\n",
       "      <td>91.125455</td>\n",
       "      <td>82.130000</td>\n",
       "    </tr>\n",
       "    <tr>\n",
       "      <th>2</th>\n",
       "      <td>2005</td>\n",
       "      <td>23.500000</td>\n",
       "      <td>91.545833</td>\n",
       "      <td>82.215000</td>\n",
       "    </tr>\n",
       "    <tr>\n",
       "      <th>3</th>\n",
       "      <td>2006</td>\n",
       "      <td>15.846154</td>\n",
       "      <td>93.612308</td>\n",
       "      <td>83.667692</td>\n",
       "    </tr>\n",
       "    <tr>\n",
       "      <th>4</th>\n",
       "      <td>2007</td>\n",
       "      <td>37.166667</td>\n",
       "      <td>93.900000</td>\n",
       "      <td>78.958333</td>\n",
       "    </tr>\n",
       "  </tbody>\n",
       "</table>\n",
       "</div>"
      ],
      "text/plain": [
       "   Year  Point Gap     Rating  Opposition Rating\n",
       "0  2003  32.833333  89.630000          77.553333\n",
       "1  2004  17.000000  91.125455          82.130000\n",
       "2  2005  23.500000  91.545833          82.215000\n",
       "3  2006  15.846154  93.612308          83.667692\n",
       "4  2007  37.166667  93.900000          78.958333"
      ]
     },
     "execution_count": 4,
     "metadata": {},
     "output_type": "execute_result"
    }
   ],
   "source": [
    "# Group data by year and take averages\n",
    "grouped_data = df.groupby([\"Year\"], as_index=False).mean()\n",
    "df4 = grouped_data[[\"Year\", \"Point Gap\", \"Rating\", \"Opposition Rating\"]]\n",
    "df4.head()"
   ]
  },
  {
   "cell_type": "code",
   "execution_count": 15,
   "metadata": {},
   "outputs": [
    {
     "data": {
      "text/html": [
       "<div>\n",
       "<style scoped>\n",
       "    .dataframe tbody tr th:only-of-type {\n",
       "        vertical-align: middle;\n",
       "    }\n",
       "\n",
       "    .dataframe tbody tr th {\n",
       "        vertical-align: top;\n",
       "    }\n",
       "\n",
       "    .dataframe thead th {\n",
       "        text-align: right;\n",
       "    }\n",
       "</style>\n",
       "<table border=\"1\" class=\"dataframe\">\n",
       "  <thead>\n",
       "    <tr style=\"text-align: right;\">\n",
       "      <th></th>\n",
       "      <th>Point Gap</th>\n",
       "      <th>Rating</th>\n",
       "      <th>Opposition Rating</th>\n",
       "    </tr>\n",
       "  </thead>\n",
       "  <tbody>\n",
       "    <tr>\n",
       "      <th>Point Gap</th>\n",
       "      <td>1.000000</td>\n",
       "      <td>0.070215</td>\n",
       "      <td>-0.778665</td>\n",
       "    </tr>\n",
       "    <tr>\n",
       "      <th>Rating</th>\n",
       "      <td>0.070215</td>\n",
       "      <td>1.000000</td>\n",
       "      <td>0.144949</td>\n",
       "    </tr>\n",
       "    <tr>\n",
       "      <th>Opposition Rating</th>\n",
       "      <td>-0.778665</td>\n",
       "      <td>0.144949</td>\n",
       "      <td>1.000000</td>\n",
       "    </tr>\n",
       "  </tbody>\n",
       "</table>\n",
       "</div>"
      ],
      "text/plain": [
       "                   Point Gap    Rating  Opposition Rating\n",
       "Point Gap           1.000000  0.070215          -0.778665\n",
       "Rating              0.070215  1.000000           0.144949\n",
       "Opposition Rating  -0.778665  0.144949           1.000000"
      ]
     },
     "execution_count": 15,
     "metadata": {},
     "output_type": "execute_result"
    }
   ],
   "source": [
    "df4.corr(method=\"pearson\")"
   ]
  },
  {
   "cell_type": "code",
   "execution_count": 10,
   "metadata": {},
   "outputs": [
    {
     "data": {
      "image/png": "[encoded data removed]",
      "text/plain": [
       "<Figure size 1080x360 with 2 Axes>"
      ]
     },
     "metadata": {
      "needs_background": "light"
     },
     "output_type": "display_data"
    }
   ],
   "source": [
    "# Set variable values\n",
    "x = df4[\"Year\"]\n",
    "pt_gap = df4[\"Point Gap\"]\n",
    "nzl_rating = df4[\"Rating\"]\n",
    "\n",
    "# Plot 2 subplots\n",
    "f, (ax1, ax2) = plt.subplots(2, 1, sharex=True, figsize=(15,5))\n",
    "\n",
    "ax1.plot(x, nzl_rating, color=\"#080808\", marker=\"^\")\n",
    "ax1.set_title('Average Game Rating (NZL)')\n",
    "\n",
    "ax2.plot(x, pt_gap, color=\"#888888\", marker=\"o\")\n",
    "ax2.set_title('Average Point Gap')\n",
    "\n",
    "plt.xticks(rotation=45)\n",
    "ax1.grid()\n",
    "ax2.grid()\n",
    "plt.savefig(\"../Images/avg-pt-gap-rating1.png\")\n",
    "plt.show()"
   ]
  },
  {
   "cell_type": "code",
   "execution_count": 13,
   "metadata": {},
   "outputs": [
    {
     "data": {
      "image/png": "[encoded data removed]",
      "text/plain": [
       "<Figure size 1080x360 with 2 Axes>"
      ]
     },
     "metadata": {
      "needs_background": "light"
     },
     "output_type": "display_data"
    }
   ],
   "source": [
    "# Set variable values\n",
    "opp_rating = df4[\"Opposition Rating\"]\n",
    "\n",
    "# Plot 2 subplots\n",
    "f, (ax1, ax2) = plt.subplots(2, 1, sharex=True, figsize=(15,5))\n",
    "\n",
    "ax1.plot(x, pt_gap, color=\"#888888\", marker=\"o\")\n",
    "ax1.set_title('Average Point Gap')\n",
    "\n",
    "ax2.plot(x, opp_rating, color=\"#080808\", marker=\"s\")\n",
    "ax2.set_title('Average Game Rating (Opposition)')\n",
    "\n",
    "plt.xticks(rotation=45)\n",
    "ax1.grid()\n",
    "ax2.grid()\n",
    "plt.savefig(\"../Images/avg-pt-gap-rating2.png\")\n",
    "plt.show()"
   ]
  },
  {
   "cell_type": "markdown",
   "metadata": {},
   "source": [
    "## Point Gap vs. Opposition team"
   ]
  },
  {
   "cell_type": "code",
   "execution_count": 32,
   "metadata": {},
   "outputs": [
    {
     "data": {
      "image/png": "[encoded data removed]",
      "text/plain": [
       "<Figure size 864x360 with 1 Axes>"
      ]
     },
     "metadata": {
      "needs_background": "light"
     },
     "output_type": "display_data"
    }
   ],
   "source": [
    "# Group data by opposition team and take sums\n",
    "grouped_data = df.groupby([\"Opposition Name\"], as_index=False)\n",
    "pts = grouped_data[\"Point Gap\"].sum()\n",
    "x = pts[\"Opposition Name\"]\n",
    "y = pts[\"Point Gap\"]\n",
    "\n",
    "# Plot data\n",
    "plt.figure(figsize=(12,5))\n",
    "plt.bar(x, y, color=\"k\")\n",
    "plt.xticks(rotation=45)\n",
    "# plt.title(\"Total Point Gap per Opposition Team\")\n",
    "plt.xlabel(\"Opposition Teams\")\n",
    "plt.ylabel(\"Point Gap\")\n",
    "plt.subplots_adjust(bottom=.2, top=.9)\n",
    "plt.savefig(\"../Images/total-point-gap-per-team.png\")\n",
    "plt.show()"
   ]
  },
  {
   "cell_type": "markdown",
   "metadata": {},
   "source": [
    "## Point Gap per Team Lost"
   ]
  },
  {
   "cell_type": "markdown",
   "metadata": {},
   "source": [
    "### Australia"
   ]
  },
  {
   "cell_type": "code",
   "execution_count": 4,
   "metadata": {},
   "outputs": [
    {
     "data": {
      "text/html": [
       "<div>\n",
       "<style scoped>\n",
       "    .dataframe tbody tr th:only-of-type {\n",
       "        vertical-align: middle;\n",
       "    }\n",
       "\n",
       "    .dataframe tbody tr th {\n",
       "        vertical-align: top;\n",
       "    }\n",
       "\n",
       "    .dataframe thead th {\n",
       "        text-align: right;\n",
       "    }\n",
       "</style>\n",
       "<table border=\"1\" class=\"dataframe\">\n",
       "  <thead>\n",
       "    <tr style=\"text-align: right;\">\n",
       "      <th></th>\n",
       "      <th>Opposition Name</th>\n",
       "      <th>Date</th>\n",
       "      <th>Point Gap</th>\n",
       "      <th>Result</th>\n",
       "    </tr>\n",
       "  </thead>\n",
       "  <tbody>\n",
       "    <tr>\n",
       "      <th>0</th>\n",
       "      <td>Australia</td>\n",
       "      <td>2003-11-15</td>\n",
       "      <td>-12</td>\n",
       "      <td>Loss</td>\n",
       "    </tr>\n",
       "    <tr>\n",
       "      <th>1</th>\n",
       "      <td>Australia</td>\n",
       "      <td>2004-07-17</td>\n",
       "      <td>9</td>\n",
       "      <td>Win</td>\n",
       "    </tr>\n",
       "    <tr>\n",
       "      <th>2</th>\n",
       "      <td>Australia</td>\n",
       "      <td>2004-08-07</td>\n",
       "      <td>-5</td>\n",
       "      <td>Loss</td>\n",
       "    </tr>\n",
       "    <tr>\n",
       "      <th>3</th>\n",
       "      <td>Australia</td>\n",
       "      <td>2005-08-13</td>\n",
       "      <td>17</td>\n",
       "      <td>Win</td>\n",
       "    </tr>\n",
       "    <tr>\n",
       "      <th>4</th>\n",
       "      <td>Australia</td>\n",
       "      <td>2005-09-03</td>\n",
       "      <td>10</td>\n",
       "      <td>Win</td>\n",
       "    </tr>\n",
       "  </tbody>\n",
       "</table>\n",
       "</div>"
      ],
      "text/plain": [
       "  Opposition Name        Date  Point Gap Result\n",
       "0       Australia  2003-11-15        -12   Loss\n",
       "1       Australia  2004-07-17          9    Win\n",
       "2       Australia  2004-08-07         -5   Loss\n",
       "3       Australia  2005-08-13         17    Win\n",
       "4       Australia  2005-09-03         10    Win"
      ]
     },
     "execution_count": 4,
     "metadata": {},
     "output_type": "execute_result"
    }
   ],
   "source": [
    "df_aus = df[[\"Opposition Name\", \"Date\", \"Point Gap\", \"Result\"]]\n",
    "df_aus = df_aus.loc[df[\"Opposition Name\"] == \"Australia\"].reset_index()\n",
    "df_aus = df_aus.drop(columns=\"index\")\n",
    "df_aus.head()"
   ]
  },
  {
   "cell_type": "code",
   "execution_count": 38,
   "metadata": {},
   "outputs": [
    {
     "data": {
      "image/png": "[encoded data removed]",
      "text/plain": [
       "<Figure size 1080x288 with 1 Axes>"
      ]
     },
     "metadata": {
      "needs_background": "light"
     },
     "output_type": "display_data"
    }
   ],
   "source": [
    "df_aus.plot.bar(x='Date', color=[np.where(df_aus[\"Point Gap\"]>0, \"#080808\", \"#888888\")], figsize=(15,4),\n",
    "           title=\"Match Record Against Australia\", legend=False)\n",
    "plt.axhline(color='k', lw=0.5)\n",
    "plt.subplots_adjust(bottom=.3, top=.9)\n",
    "plt.savefig(\"../Images/pt-gap-aus.png\")\n",
    "plt.show()"
   ]
  },
  {
   "cell_type": "markdown",
   "metadata": {},
   "source": [
    "### England"
   ]
  },
  {
   "cell_type": "code",
   "execution_count": 40,
   "metadata": {},
   "outputs": [
    {
     "data": {
      "text/html": [
       "<div>\n",
       "<style scoped>\n",
       "    .dataframe tbody tr th:only-of-type {\n",
       "        vertical-align: middle;\n",
       "    }\n",
       "\n",
       "    .dataframe tbody tr th {\n",
       "        vertical-align: top;\n",
       "    }\n",
       "\n",
       "    .dataframe thead th {\n",
       "        text-align: right;\n",
       "    }\n",
       "</style>\n",
       "<table border=\"1\" class=\"dataframe\">\n",
       "  <thead>\n",
       "    <tr style=\"text-align: right;\">\n",
       "      <th></th>\n",
       "      <th>Opposition Name</th>\n",
       "      <th>Date</th>\n",
       "      <th>Point Gap</th>\n",
       "      <th>Result</th>\n",
       "    </tr>\n",
       "  </thead>\n",
       "  <tbody>\n",
       "    <tr>\n",
       "      <th>0</th>\n",
       "      <td>England</td>\n",
       "      <td>2004-06-12</td>\n",
       "      <td>33</td>\n",
       "      <td>Win</td>\n",
       "    </tr>\n",
       "    <tr>\n",
       "      <th>1</th>\n",
       "      <td>England</td>\n",
       "      <td>2004-06-19</td>\n",
       "      <td>24</td>\n",
       "      <td>Win</td>\n",
       "    </tr>\n",
       "    <tr>\n",
       "      <th>2</th>\n",
       "      <td>England</td>\n",
       "      <td>2005-11-19</td>\n",
       "      <td>4</td>\n",
       "      <td>Win</td>\n",
       "    </tr>\n",
       "    <tr>\n",
       "      <th>3</th>\n",
       "      <td>England</td>\n",
       "      <td>2006-11-05</td>\n",
       "      <td>21</td>\n",
       "      <td>Win</td>\n",
       "    </tr>\n",
       "    <tr>\n",
       "      <th>4</th>\n",
       "      <td>England</td>\n",
       "      <td>2008-06-14</td>\n",
       "      <td>17</td>\n",
       "      <td>Win</td>\n",
       "    </tr>\n",
       "  </tbody>\n",
       "</table>\n",
       "</div>"
      ],
      "text/plain": [
       "  Opposition Name        Date  Point Gap Result\n",
       "0         England  2004-06-12         33    Win\n",
       "1         England  2004-06-19         24    Win\n",
       "2         England  2005-11-19          4    Win\n",
       "3         England  2006-11-05         21    Win\n",
       "4         England  2008-06-14         17    Win"
      ]
     },
     "execution_count": 40,
     "metadata": {},
     "output_type": "execute_result"
    }
   ],
   "source": [
    "df_eng = df[[\"Opposition Name\", \"Date\", \"Point Gap\", \"Result\"]]\n",
    "df_eng = df_eng.loc[df[\"Opposition Name\"] == \"England\"].reset_index()\n",
    "df_eng = df_eng.drop(columns=\"index\")\n",
    "df_eng.head()"
   ]
  },
  {
   "cell_type": "code",
   "execution_count": 41,
   "metadata": {},
   "outputs": [
    {
     "data": {
      "image/png": "[encoded data removed]",
      "text/plain": [
       "<Figure size 1080x288 with 1 Axes>"
      ]
     },
     "metadata": {
      "needs_background": "light"
     },
     "output_type": "display_data"
    }
   ],
   "source": [
    "df_eng.plot.bar(x='Date', color=[np.where(df_eng[\"Point Gap\"]>0, \"#080808\", \"#888888\")], figsize=(15,4),\n",
    "           title=\"Match Record Against England\", legend=False)\n",
    "plt.axhline(color='k', lw=0.5)\n",
    "plt.subplots_adjust(bottom=.3, top=.9)\n",
    "plt.savefig(\"../Images/pt-gap-eng.png\")\n",
    "plt.show()"
   ]
  },
  {
   "cell_type": "markdown",
   "metadata": {},
   "source": [
    "### France"
   ]
  },
  {
   "cell_type": "code",
   "execution_count": 42,
   "metadata": {},
   "outputs": [
    {
     "data": {
      "text/html": [
       "<div>\n",
       "<style scoped>\n",
       "    .dataframe tbody tr th:only-of-type {\n",
       "        vertical-align: middle;\n",
       "    }\n",
       "\n",
       "    .dataframe tbody tr th {\n",
       "        vertical-align: top;\n",
       "    }\n",
       "\n",
       "    .dataframe thead th {\n",
       "        text-align: right;\n",
       "    }\n",
       "</style>\n",
       "<table border=\"1\" class=\"dataframe\">\n",
       "  <thead>\n",
       "    <tr style=\"text-align: right;\">\n",
       "      <th></th>\n",
       "      <th>Opposition Name</th>\n",
       "      <th>Date</th>\n",
       "      <th>Point Gap</th>\n",
       "      <th>Result</th>\n",
       "    </tr>\n",
       "  </thead>\n",
       "  <tbody>\n",
       "    <tr>\n",
       "      <th>0</th>\n",
       "      <td>France</td>\n",
       "      <td>2003-11-20</td>\n",
       "      <td>27</td>\n",
       "      <td>Win</td>\n",
       "    </tr>\n",
       "    <tr>\n",
       "      <th>1</th>\n",
       "      <td>France</td>\n",
       "      <td>2004-11-27</td>\n",
       "      <td>39</td>\n",
       "      <td>Win</td>\n",
       "    </tr>\n",
       "    <tr>\n",
       "      <th>2</th>\n",
       "      <td>France</td>\n",
       "      <td>2006-11-11</td>\n",
       "      <td>44</td>\n",
       "      <td>Win</td>\n",
       "    </tr>\n",
       "    <tr>\n",
       "      <th>3</th>\n",
       "      <td>France</td>\n",
       "      <td>2006-11-18</td>\n",
       "      <td>12</td>\n",
       "      <td>Win</td>\n",
       "    </tr>\n",
       "    <tr>\n",
       "      <th>4</th>\n",
       "      <td>France</td>\n",
       "      <td>2007-06-02</td>\n",
       "      <td>31</td>\n",
       "      <td>Win</td>\n",
       "    </tr>\n",
       "  </tbody>\n",
       "</table>\n",
       "</div>"
      ],
      "text/plain": [
       "  Opposition Name        Date  Point Gap Result\n",
       "0          France  2003-11-20         27    Win\n",
       "1          France  2004-11-27         39    Win\n",
       "2          France  2006-11-11         44    Win\n",
       "3          France  2006-11-18         12    Win\n",
       "4          France  2007-06-02         31    Win"
      ]
     },
     "execution_count": 42,
     "metadata": {},
     "output_type": "execute_result"
    }
   ],
   "source": [
    "df_fra = df[[\"Opposition Name\", \"Date\", \"Point Gap\", \"Result\"]]\n",
    "df_fra = df_fra.loc[df[\"Opposition Name\"] == \"France\"].reset_index()\n",
    "df_fra = df_fra.drop(columns=\"index\")\n",
    "df_fra.head()"
   ]
  },
  {
   "cell_type": "code",
   "execution_count": 43,
   "metadata": {},
   "outputs": [
    {
     "data": {
      "image/png": "[encoded data removed]",
      "text/plain": [
       "<Figure size 1080x288 with 1 Axes>"
      ]
     },
     "metadata": {
      "needs_background": "light"
     },
     "output_type": "display_data"
    }
   ],
   "source": [
    "df_fra.plot.bar(x='Date', color=[np.where(df_fra[\"Point Gap\"]>0, \"#080808\", \"#888888\")], figsize=(15,4),\n",
    "           title=\"Match Record Against France\", legend=False)\n",
    "plt.axhline(color='k', lw=0.5)\n",
    "plt.subplots_adjust(bottom=.3, top=.9)\n",
    "plt.savefig(\"../Images/pt-gap-fra.png\")\n",
    "plt.show()"
   ]
  },
  {
   "cell_type": "markdown",
   "metadata": {},
   "source": [
    "### Ireland"
   ]
  },
  {
   "cell_type": "code",
   "execution_count": 44,
   "metadata": {},
   "outputs": [
    {
     "data": {
      "text/html": [
       "<div>\n",
       "<style scoped>\n",
       "    .dataframe tbody tr th:only-of-type {\n",
       "        vertical-align: middle;\n",
       "    }\n",
       "\n",
       "    .dataframe tbody tr th {\n",
       "        vertical-align: top;\n",
       "    }\n",
       "\n",
       "    .dataframe thead th {\n",
       "        text-align: right;\n",
       "    }\n",
       "</style>\n",
       "<table border=\"1\" class=\"dataframe\">\n",
       "  <thead>\n",
       "    <tr style=\"text-align: right;\">\n",
       "      <th></th>\n",
       "      <th>Opposition Name</th>\n",
       "      <th>Date</th>\n",
       "      <th>Point Gap</th>\n",
       "      <th>Result</th>\n",
       "    </tr>\n",
       "  </thead>\n",
       "  <tbody>\n",
       "    <tr>\n",
       "      <th>0</th>\n",
       "      <td>Ireland</td>\n",
       "      <td>2005-11-12</td>\n",
       "      <td>38</td>\n",
       "      <td>Win</td>\n",
       "    </tr>\n",
       "    <tr>\n",
       "      <th>1</th>\n",
       "      <td>Ireland</td>\n",
       "      <td>2006-06-10</td>\n",
       "      <td>11</td>\n",
       "      <td>Win</td>\n",
       "    </tr>\n",
       "    <tr>\n",
       "      <th>2</th>\n",
       "      <td>Ireland</td>\n",
       "      <td>2006-06-17</td>\n",
       "      <td>10</td>\n",
       "      <td>Win</td>\n",
       "    </tr>\n",
       "    <tr>\n",
       "      <th>3</th>\n",
       "      <td>Ireland</td>\n",
       "      <td>2008-06-07</td>\n",
       "      <td>10</td>\n",
       "      <td>Win</td>\n",
       "    </tr>\n",
       "    <tr>\n",
       "      <th>4</th>\n",
       "      <td>Ireland</td>\n",
       "      <td>2008-11-15</td>\n",
       "      <td>19</td>\n",
       "      <td>Win</td>\n",
       "    </tr>\n",
       "  </tbody>\n",
       "</table>\n",
       "</div>"
      ],
      "text/plain": [
       "  Opposition Name        Date  Point Gap Result\n",
       "0         Ireland  2005-11-12         38    Win\n",
       "1         Ireland  2006-06-10         11    Win\n",
       "2         Ireland  2006-06-17         10    Win\n",
       "3         Ireland  2008-06-07         10    Win\n",
       "4         Ireland  2008-11-15         19    Win"
      ]
     },
     "execution_count": 44,
     "metadata": {},
     "output_type": "execute_result"
    }
   ],
   "source": [
    "df_ire = df[[\"Opposition Name\", \"Date\", \"Point Gap\", \"Result\"]]\n",
    "df_ire = df_ire.loc[df[\"Opposition Name\"] == \"Ireland\"].reset_index()\n",
    "df_ire = df_ire.drop(columns=\"index\")\n",
    "df_ire.head()"
   ]
  },
  {
   "cell_type": "code",
   "execution_count": 45,
   "metadata": {},
   "outputs": [
    {
     "data": {
      "image/png": "[encoded data removed]",
      "text/plain": [
       "<Figure size 1080x288 with 1 Axes>"
      ]
     },
     "metadata": {
      "needs_background": "light"
     },
     "output_type": "display_data"
    }
   ],
   "source": [
    "df_ire.plot.bar(x='Date', color=[np.where(df_ire[\"Point Gap\"]>0, \"#080808\", \"#888888\")], figsize=(15,4),\n",
    "           title=\"Match Record Against Ireland\", legend=False)\n",
    "plt.axhline(color='k', lw=0.5)\n",
    "plt.subplots_adjust(bottom=.3, top=.9)\n",
    "plt.savefig(\"../Images/pt-gap-ire.png\")\n",
    "plt.show()"
   ]
  },
  {
   "cell_type": "markdown",
   "metadata": {},
   "source": [
    "### British & Irish Lions"
   ]
  },
  {
   "cell_type": "code",
   "execution_count": 46,
   "metadata": {},
   "outputs": [
    {
     "data": {
      "text/html": [
       "<div>\n",
       "<style scoped>\n",
       "    .dataframe tbody tr th:only-of-type {\n",
       "        vertical-align: middle;\n",
       "    }\n",
       "\n",
       "    .dataframe tbody tr th {\n",
       "        vertical-align: top;\n",
       "    }\n",
       "\n",
       "    .dataframe thead th {\n",
       "        text-align: right;\n",
       "    }\n",
       "</style>\n",
       "<table border=\"1\" class=\"dataframe\">\n",
       "  <thead>\n",
       "    <tr style=\"text-align: right;\">\n",
       "      <th></th>\n",
       "      <th>Opposition Name</th>\n",
       "      <th>Date</th>\n",
       "      <th>Point Gap</th>\n",
       "      <th>Result</th>\n",
       "    </tr>\n",
       "  </thead>\n",
       "  <tbody>\n",
       "    <tr>\n",
       "      <th>0</th>\n",
       "      <td>Lions</td>\n",
       "      <td>2005-06-25</td>\n",
       "      <td>18</td>\n",
       "      <td>Win</td>\n",
       "    </tr>\n",
       "    <tr>\n",
       "      <th>1</th>\n",
       "      <td>Lions</td>\n",
       "      <td>2005-07-02</td>\n",
       "      <td>30</td>\n",
       "      <td>Win</td>\n",
       "    </tr>\n",
       "    <tr>\n",
       "      <th>2</th>\n",
       "      <td>Lions</td>\n",
       "      <td>2005-07-09</td>\n",
       "      <td>19</td>\n",
       "      <td>Win</td>\n",
       "    </tr>\n",
       "    <tr>\n",
       "      <th>3</th>\n",
       "      <td>Lions</td>\n",
       "      <td>2017-06-24</td>\n",
       "      <td>15</td>\n",
       "      <td>Win</td>\n",
       "    </tr>\n",
       "    <tr>\n",
       "      <th>4</th>\n",
       "      <td>Lions</td>\n",
       "      <td>2017-07-01</td>\n",
       "      <td>-3</td>\n",
       "      <td>Loss</td>\n",
       "    </tr>\n",
       "  </tbody>\n",
       "</table>\n",
       "</div>"
      ],
      "text/plain": [
       "  Opposition Name        Date  Point Gap Result\n",
       "0           Lions  2005-06-25         18    Win\n",
       "1           Lions  2005-07-02         30    Win\n",
       "2           Lions  2005-07-09         19    Win\n",
       "3           Lions  2017-06-24         15    Win\n",
       "4           Lions  2017-07-01         -3   Loss"
      ]
     },
     "execution_count": 46,
     "metadata": {},
     "output_type": "execute_result"
    }
   ],
   "source": [
    "df_bil = df[[\"Opposition Name\", \"Date\", \"Point Gap\", \"Result\"]]\n",
    "df_bil = df_bil.loc[df[\"Opposition Name\"] == \"Lions\"].reset_index()\n",
    "df_bil = df_bil.drop(columns=\"index\")\n",
    "df_bil.head()"
   ]
  },
  {
   "cell_type": "code",
   "execution_count": 47,
   "metadata": {},
   "outputs": [
    {
     "data": {
      "image/png": "[encoded data removed]",
      "text/plain": [
       "<Figure size 1080x288 with 1 Axes>"
      ]
     },
     "metadata": {
      "needs_background": "light"
     },
     "output_type": "display_data"
    }
   ],
   "source": [
    "df_bil.plot.bar(x='Date', color=[np.where(df_bil[\"Point Gap\"]>0, \"#080808\", \"#888888\")], figsize=(15,4),\n",
    "           title=\"Match Record Against the British & Irish Lions\", legend=False)\n",
    "plt.axhline(color='k', lw=0.5)\n",
    "plt.subplots_adjust(bottom=.3, top=.9)\n",
    "plt.savefig(\"../Images/pt-gap-bil.png\")\n",
    "plt.show()"
   ]
  },
  {
   "cell_type": "markdown",
   "metadata": {},
   "source": [
    "### South Africa"
   ]
  },
  {
   "cell_type": "code",
   "execution_count": 48,
   "metadata": {},
   "outputs": [
    {
     "data": {
      "text/html": [
       "<div>\n",
       "<style scoped>\n",
       "    .dataframe tbody tr th:only-of-type {\n",
       "        vertical-align: middle;\n",
       "    }\n",
       "\n",
       "    .dataframe tbody tr th {\n",
       "        vertical-align: top;\n",
       "    }\n",
       "\n",
       "    .dataframe thead th {\n",
       "        text-align: right;\n",
       "    }\n",
       "</style>\n",
       "<table border=\"1\" class=\"dataframe\">\n",
       "  <thead>\n",
       "    <tr style=\"text-align: right;\">\n",
       "      <th></th>\n",
       "      <th>Opposition Name</th>\n",
       "      <th>Date</th>\n",
       "      <th>Point Gap</th>\n",
       "      <th>Result</th>\n",
       "    </tr>\n",
       "  </thead>\n",
       "  <tbody>\n",
       "    <tr>\n",
       "      <th>0</th>\n",
       "      <td>South Africa</td>\n",
       "      <td>2003-11-08</td>\n",
       "      <td>20</td>\n",
       "      <td>Win</td>\n",
       "    </tr>\n",
       "    <tr>\n",
       "      <th>1</th>\n",
       "      <td>South Africa</td>\n",
       "      <td>2004-07-24</td>\n",
       "      <td>2</td>\n",
       "      <td>Win</td>\n",
       "    </tr>\n",
       "    <tr>\n",
       "      <th>2</th>\n",
       "      <td>South Africa</td>\n",
       "      <td>2004-08-14</td>\n",
       "      <td>-14</td>\n",
       "      <td>Loss</td>\n",
       "    </tr>\n",
       "    <tr>\n",
       "      <th>3</th>\n",
       "      <td>South Africa</td>\n",
       "      <td>2005-08-06</td>\n",
       "      <td>-6</td>\n",
       "      <td>Loss</td>\n",
       "    </tr>\n",
       "    <tr>\n",
       "      <th>4</th>\n",
       "      <td>South Africa</td>\n",
       "      <td>2005-08-27</td>\n",
       "      <td>4</td>\n",
       "      <td>Win</td>\n",
       "    </tr>\n",
       "  </tbody>\n",
       "</table>\n",
       "</div>"
      ],
      "text/plain": [
       "  Opposition Name        Date  Point Gap Result\n",
       "0    South Africa  2003-11-08         20    Win\n",
       "1    South Africa  2004-07-24          2    Win\n",
       "2    South Africa  2004-08-14        -14   Loss\n",
       "3    South Africa  2005-08-06         -6   Loss\n",
       "4    South Africa  2005-08-27          4    Win"
      ]
     },
     "execution_count": 48,
     "metadata": {},
     "output_type": "execute_result"
    }
   ],
   "source": [
    "df_rsa = df[[\"Opposition Name\", \"Date\", \"Point Gap\", \"Result\"]]\n",
    "df_rsa = df_rsa.loc[df[\"Opposition Name\"] == \"South Africa\"].reset_index()\n",
    "df_rsa = df_rsa.drop(columns=\"index\")\n",
    "df_rsa.head()"
   ]
  },
  {
   "cell_type": "code",
   "execution_count": 49,
   "metadata": {},
   "outputs": [
    {
     "data": {
      "image/png": "[encoded data removed]",
      "text/plain": [
       "<Figure size 1080x288 with 1 Axes>"
      ]
     },
     "metadata": {
      "needs_background": "light"
     },
     "output_type": "display_data"
    }
   ],
   "source": [
    "df_rsa.plot.bar(x='Date', color=[np.where(df_rsa[\"Point Gap\"]>0, \"#080808\", \"#888888\")], figsize=(15,4),\n",
    "           title=\"Match Record Against Australia\", legend=False)\n",
    "plt.axhline(color='k', lw=0.5)\n",
    "plt.subplots_adjust(bottom=.3, top=.9)\n",
    "plt.savefig(\"../Images/pt-gap-rsa.png\")\n",
    "plt.show()"
   ]
  },
  {
   "cell_type": "markdown",
   "metadata": {},
   "source": [
    "## Point Gap vs. New Caps"
   ]
  },
  {
   "cell_type": "code",
   "execution_count": 11,
   "metadata": {
    "scrolled": true
   },
   "outputs": [
    {
     "data": {
      "image/png": "[encoded data removed]",
      "text/plain": [
       "<Figure size 432x288 with 1 Axes>"
      ]
     },
     "metadata": {
      "needs_background": "light"
     },
     "output_type": "display_data"
    }
   ],
   "source": [
    "# Set variable values\n",
    "x = df[\"Debutants\"]\n",
    "y = df[\"Point Gap\"]\n",
    "\n",
    "# Plot data\n",
    "plt.figure()\n",
    "plt.scatter(x, y, color='k', alpha=0.5)\n",
    "# plt.title(\"Relation Between the Number of Debutant Players and Point Gap\")\n",
    "plt.xlabel(\"Number of Uncapped Players\")\n",
    "plt.ylabel(\"Point Gap\")\n",
    "plt.savefig(\"../Images/point-gap-new-caps.png\")\n",
    "plt.show()"
   ]
  },
  {
   "cell_type": "markdown",
   "metadata": {},
   "source": [
    "## Export data set to html"
   ]
  },
  {
   "cell_type": "code",
   "execution_count": 12,
   "metadata": {},
   "outputs": [],
   "source": [
    "with open('../table.html', 'w') as f:\n",
    "    f.write(df.to_html(index=False))"
   ]
  }
 ],
 "metadata": {
  "kernelspec": {
   "display_name": "Python 3",
   "language": "python",
   "name": "python3"
  },
  "language_info": {
   "codemirror_mode": {
    "name": "ipython",
    "version": 3
   },
   "file_extension": ".py",
   "mimetype": "text/x-python",
   "name": "python",
   "nbconvert_exporter": "python",
   "pygments_lexer": "ipython3",
   "version": "3.7.3"
  }
 },
 "nbformat": 4,
 "nbformat_minor": 2
}
